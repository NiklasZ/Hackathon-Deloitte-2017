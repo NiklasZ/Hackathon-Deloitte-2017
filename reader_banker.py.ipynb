{
 "cells": [
  {
   "cell_type": "code",
   "execution_count": 2,
   "metadata": {},
   "outputs": [],
   "source": [
    "from csv import reader\n",
    "\n",
    "#Load dataset and convert its content into floats\n",
    "def load_csv(filename):\n",
    "\tdataset = []\n",
    "\twith open(filename, 'r') as file:\n",
    "\t\tcsv_reader = reader(file)\n",
    "\t\tfor row in csv_reader:\n",
    "\t\t\tif not row:\n",
    "\t\t\t\tcontinue\n",
    "\t\t\tdataset.append(row)\n",
    "\t#for i in range(1, len(dataset)):\n",
    "\t#\tfor j in range(len(dataset[0])):\n",
    "\t#\t\tdataset[i][j] = float(dataset[i][j].strip())\n",
    "\treturn dataset"
   ]
  },
  {
   "cell_type": "code",
   "execution_count": 3,
   "metadata": {},
   "outputs": [],
   "source": [
    "dataset = load_csv('bank_transfer_file.csv')"
   ]
  },
  {
   "cell_type": "code",
   "execution_count": 4,
   "metadata": {},
   "outputs": [
    {
     "name": "stdout",
     "output_type": "stream",
     "text": [
      "27339\n",
      "4214\n",
      "sf Raysf\n"
     ]
    }
   ],
   "source": [
    "fishy = []\n",
    "fishy_dict = {}\n",
    "print (len(dataset))\n",
    "\n",
    "for i in range(len(dataset)):\n",
    "    if len(dataset[i])!=1:\n",
    "        fishy.append(dataset[i])\n",
    "        \n",
    "print len(fishy)\n",
    "\n",
    "for item in fishy:\n",
    "    if item[1].strip() not in fishy_dict.keys():\n",
    "        fishy_dict[item[1].strip()] = [item[0]]\n",
    "    else:\n",
    "        fishy_dict[item[1].strip()].append(item[0])\n",
    "        \n",
    "print \"sf\"+(item[1])+\"sf\""
   ]
  },
  {
   "cell_type": "code",
   "execution_count": 5,
   "metadata": {},
   "outputs": [
    {
     "name": "stdout",
     "output_type": "stream",
     "text": [
      "16\n",
      "Steel 320\n",
      "Claudia 159\n",
      "Ivory 86\n",
      "Myles 418\n",
      "Colorado 192\n",
      "Richard 58\n",
      "Leroy 425\n",
      "Samantha 345\n",
      "Julie 367\n",
      "Willa 474\n",
      "Vernon 158\n",
      "Amos 276\n",
      "Stewart 32\n",
      "Ivy 87\n",
      "Clementine 480\n",
      "Ray 337\n",
      "4214\n"
     ]
    }
   ],
   "source": [
    "print len(fishy_dict)\n",
    "res = 0\n",
    "for keys in fishy_dict.keys():\n",
    "    print keys, len(fishy_dict[keys])\n",
    "    res += len(fishy_dict[keys])\n",
    "print res\n",
    "\n"
   ]
  },
  {
   "cell_type": "code",
<<<<<<< HEAD
   "execution_count": 45,
   "metadata": {
    "collapsed": false
   },
=======
   "execution_count": 6,
   "metadata": {},
>>>>>>> f68af65cb01322808487720b713d02ff4ae32de3
   "outputs": [
    {
     "name": "stdout",
     "output_type": "stream",
     "text": [
      "V12147Q87719|2010-12-24 00:00:00|CH0240900251892652380|CH3797542252586376553|17031.76|Payment of invoice(s) Mcfadden\n",
      "H76281F97392|2010-10-08 00:00:00|CH0207993305365962502|CH3797542252586376553|29281.70|Payment of invoice(s) Mcfadden\n",
      "O42833S51794|2010-11-12 00:00:00|CH0249176139269086161|CH3797542252586376553|19958.35|Payment of invoice(s) Mcfadden\n",
      "Q44719N52468|2011-05-13 00:00:00|CH0240522825785605571|CH3797542252586376553|33459.84|Payment of invoice(s) Mcfadden\n",
      "T34707H19480|2011-04-15 00:00:00|CH0231003557422817970|CH3797542252586376553|32651.78|Payment of invoice(s) Mcfadden\n",
      "Z66307Y82033|2010-12-10 00:00:00|CH0236918036799637910|CH3797542252586376553|3312.21|Payment of invoice(s) Mcfadden\n",
      "O20543B18731|2010-10-08 00:00:00|CH0214401606376708007|CH3797542252586376553|29944.90|Payment of invoice(s) Mcfadden\n",
      "G81178L72435|2010-09-17 00:00:00|CH0231003557422817970|CH3797542252586376553|29000.00|Payment of invoice(s) Mcfadden\n",
      "U43987P25659|2011-03-04 00:00:00|CH0250222882407221959|CH3797542252586376553|57146.42|Payment of invoice(s) Mcfadden\n",
      "P90850M79351|2011-05-06 00:00:00|CH0214401606376708007|CH3797542252586376553|35712.45|Payment of invoice(s) Mcfadden\n",
      "E99090S46456|2010-11-12 00:00:00|CH0249176139269086161|CH3797542252586376553|19185.70|Payment of invoice(s) Mcfadden\n",
      "E62584S88844|2010-11-19 00:00:00|CH0228315136202810440|CH3797542252586376553|76525.29|Payment of invoice(s) Mcfadden\n",
      "I33641S63215|2010-12-10 00:00:00|CH0206003498982695304|CH3797542252586376553|19895.33|Payment of invoice(s) Mcfadden\n",
      "S51734R71748|2011-03-18 00:00:00|CH0240522825785605571|CH3797542252586376553|21432.60|Payment of invoice(s) Mcfadden\n",
      "T36544V22871|2011-02-11 00:00:00|CH0211681954985788087|CH3797542252586376553|13357.28|Payment of invoice(s) Mcfadden\n",
      "F55728E64010|2011-02-25 00:00:00|CH0214151982011227631|CH3797542252586376553|10611.34|Payment of invoice(s) Mcfadden\n",
      "G32331D16979|2011-05-06 00:00:00|CH0228112131218563569|CH3797542252586376553|33403.09|Payment of invoice(s) Mcfadden\n",
      "B62046N89548|2011-01-14 00:00:00|CH0234515455801405036|CH3797542252586376553|27539.89|Payment of invoice(s) Mcfadden\n",
      "G81739I86769|2010-10-15 00:00:00|CH0218229960514553128|CH3797542252586376553|11943.40|Payment of invoice(s) Mcfadden\n",
      "K65749Q42082|2010-12-31 00:00:00|CH0214151982011227631|CH3797542252586376553|14149.69|Payment of invoice(s) Mcfadden\n",
      "V81599D10008|2010-12-03 00:00:00|CH0240522825785605571|CH3797542252586376553|5777.14|Payment of invoice(s) Mcfadden\n",
      "T95110P89175|2010-10-22 00:00:00|CH0251073611707606644|CH3797542252586376553|12333.57|Payment of invoice(s) Mcfadden\n",
      "W85584D59397|2011-03-25 00:00:00|CH0206003498982695304|CH3797542252586376553|25937.64|Payment of invoice(s) Mcfadden\n",
      "S15359P44211|2010-10-22 00:00:00|CH0227578004931115071|CH3797542252586376553|13600.00|Payment of invoice(s) Mcfadden\n",
      "O68092P16386|2011-05-06 00:00:00|CH0240900251892652380|CH3797542252586376553|6710.64|Payment of invoice(s) Mcfadden\n",
      "W75078L94084|2010-12-17 00:00:00|CH0223943235385824696|CH3797542252586376553|5454.62|Payment of invoice(s) Mcfadden\n",
      "O47586T22521|2011-01-28 00:00:00|CH0219850911967777927|CH3797542252586376553|7446.12|Payment of invoice(s) Mcfadden\n",
      "F39549J98850|2010-11-12 00:00:00|CH0223943235385824696|CH3797542252586376553|4534.94|Payment of invoice(s) Mcfadden\n",
      "W96566W44097|2011-02-18 00:00:00|CH0228315136202810440|CH3797542252586376553|35457.56|Payment of invoice(s) Mcfadden\n",
      "I17018D72555|2010-12-03 00:00:00|CH0250222882407221959|CH3797542252586376553|2203.52|Payment of invoice(s) Mcfadden\n",
      "L90065E11010|2010-12-24 00:00:00|CH0204884126669364759|CH3797542252586376553|75953.51|Payment of invoice(s) Mcfadden\n",
      "L79453E69695|2011-02-04 00:00:00|CH0231003557422817970|CH3797542252586376553|15754.98|Payment of invoice(s) Mcfadden\n"
     ]
    }
   ],
   "source": [
    "stewart= fishy_dict['Stewart']\n",
    "\n",
    "for item in stewart:\n",
    "    print item\n"
   ]
  },
  {
   "cell_type": "code",
   "execution_count": 8,
   "metadata": {},
   "outputs": [
    {
     "name": "stdout",
     "output_type": "stream",
     "text": [
      "['R64421Q49527|2012-02-24 00:00:00|CH0227578004931115071|CH2284113576710807414|24963.34|Payment of invoice(s) NorthStar Time']\n"
     ]
    }
   ],
   "source": [
    "print dataset[1]"
   ]
  }
 ],
 "metadata": {
  "kernelspec": {
   "display_name": "Python 2",
   "language": "python",
   "name": "python2"
  },
  "language_info": {
   "codemirror_mode": {
    "name": "ipython",
    "version": 2
   },
   "file_extension": ".py",
   "mimetype": "text/x-python",
   "name": "python",
   "nbconvert_exporter": "python",
   "pygments_lexer": "ipython2",
   "version": "2.7.12+"
  }
 },
 "nbformat": 4,
 "nbformat_minor": 1
}
