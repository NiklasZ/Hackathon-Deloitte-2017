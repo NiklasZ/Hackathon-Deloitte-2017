{
 "cells": [
  {
   "cell_type": "code",
   "execution_count": 53,
   "metadata": {
    "collapsed": false,
    "deletable": true,
    "editable": true
   },
   "outputs": [],
   "source": [
    "#importing data\n",
    "import csv\n",
    "import pandas as pd\n",
    "from sklearn import linear_model\n",
    "from sklearn.preprocessing import PolynomialFeatures\n",
    "import numpy as np"
   ]
  },
  {
   "cell_type": "code",
   "execution_count": 47,
   "metadata": {
    "collapsed": false
   },
   "outputs": [],
   "source": [
    "access_log = \"access_log.csv\"\n",
    "\n",
    "files = ['employee_department.csv',\n",
    "'access_log.csv'  ,           'invoice_purchase_order.csv',\n",
    "'account_company.csv',        'invoice_transactions.csv',\n",
    "'account_external.csv',       'public_holidays_zrh.csv',\n",
    "'authorization_level.csv',    'system_users.csv',\n",
    "'bank_transfer_file.csv',     'transactions.csv',\n",
    "'calendar.csv',               'user_groups.csv',\n",
    "'department.csv',             'vendor.csv',\n",
    "'employee.csv',               'vendor_address.csv']\n",
    "\n",
    "with open()\n",
    "\n",
    "employee_department_data = pd.read_csv('employee_department.csv', sep='|')\n",
    "access_log_data = pd.read_csv('access_log.csv', sep='|')\n",
    "invoice_purchase_order_data = pd.read_csv('invoice_purchase_order.csv', sep='|')\n",
    "account_company_data = pd.read_csv('account_company.csv', sep='|')\n",
    "invoice_transactions_data = pd.read_csv('invoice_transactions.csv', sep='|')\n",
    "account_external_data = pd.read_csv('account_external.csv', sep='|')\n",
    "public_holidays_zrh_data = pd.read_csv('public_holidays_zrh.csv', sep='|')\n",
    "authorization_level_data = pd.read_csv('authorization_level.csv', sep='|')\n",
    "system_users_data = pd.read_csv('system_users.csv', sep='|')\n",
    "transactions_data = pd.read_csv('transactions.csv', sep='|')\n",
    "calendar_data = pd.read_csv('calendar.csv', sep='|')\n",
    "user_groups_data = pd.read_csv('user_groups.csv', sep='|')\n",
    "department_data = pd.read_csv('department.csv', sep='|')   \n",
    "vendor_data = pd.read_csv('vendor.csv', sep='|')\n",
    "employee_data = pd.read_csv('employee.csv', sep='|')\n",
    "vendor_address_data = pd.read_csv('vendor_address.csv', sep='|')\n",
    "#bank_transfer_file_data = pd.read_csv('bank_transfer_file.csv') \n",
    "\n"
   ]
  },
  {
   "cell_type": "code",
   "execution_count": 73,
   "metadata": {
    "collapsed": false
   },
   "outputs": [
    {
     "name": "stdout",
     "output_type": "stream",
     "text": [
      "0\n",
      "10\n",
      "{'VDA-00773', 'VDA-00449', 'VDA-00323', 'VDA-00772', 'VDA-00398', 'VDA-00206', 'VDA-00109', 'VDA-00547', 'VDA-00597', 'VDA-00346'}\n"
     ]
    }
   ],
   "source": [
    "#Get # vendors with incomplete details.\n",
    "\n",
    "vendors = []\n",
    "vendor_addr = []\n",
    "addr_header = None\n",
    "\n",
    "with open('data/vendor.csv', \"r\") as input_file:\n",
    "    reader = csv.reader(input_file, delimiter=\"|\")\n",
    "    next(reader) #skip header\n",
    "    vendors = [row for row in reader]\n",
    "\n",
    "    \n",
    "with open('data/vendor_address.csv', \"r\") as input_file:\n",
    "    reader = csv.reader(input_file, delimiter=\"|\")\n",
    "    addr_header = next(reader) #skip header\n",
    "    vendor_addr = [row for row in reader]\n",
    "\n",
    "counter = 0\n",
    "vendor_ids = set()\n",
    "inc_vendors = []\n",
    "\n",
    "for idx,v in enumerate(vendors):\n",
    "    for entry in v:\n",
    "        #print(entry)\n",
    "        if not entry:\n",
    "            counter += 1\n",
    "            vendor_ids.add(v[0])\n",
    "            inc_vendors.append(v)\n",
    "            break\n",
    "            \n",
    "print(counter)\n",
    "\n",
    "for idx,v in enumerate(vendor_addr):\n",
    "    for entry in v:\n",
    "        if not entry and v[0] not in vendor_ids:\n",
    "            counter += 1\n",
    "            v_2 = []\n",
    "            for e in v:\n",
    "                if not e:\n",
    "                    v_2.append(\"EMPTY\")\n",
    "                else:\n",
    "                    v_2.append(e)\n",
    "                    \n",
    "            inc_vendors.append(v_2)\n",
    "            vendor_ids.add(v[0])\n",
    "            break\n",
    "            \n",
    "print(counter)\n",
    "print(vendor_ids)\n",
    "\n",
    "with open('analysis/incomplete_vendors.csv','w') as out_file:\n",
    "    out_file.write(\"\\n\"+\",\".join(addr_header))\n",
    "    for v in inc_vendors:\n",
    "        out_file.write(\"\\n\"+\",\".join(v))"
   ]
  },
  {
   "cell_type": "code",
   "execution_count": 84,
   "metadata": {
    "collapsed": false
   },
   "outputs": [
    {
     "name": "stdout",
     "output_type": "stream",
     "text": [
      "37\n",
      "['ï»¿transaction_id', 'transaction_ref', 'transaction_dt', 'amount', 'debit_acct', 'credit_acct', 'status', 'narrative', 'approval_dt', 'approved_by_user_id']\n",
      "['TRN-123446', 'A89378B89378', '2016-11-13 17:04:51', '25000.00', 'ACT-00019', 'ACT-95657', 'processed', 'payment for invoice # INV-253628', '2016-11-13 17:05:12', 'u8284']\n",
      "['TRN-123444', 'A89376B89376', '2016-11-13 17:02:14', '25000.00', 'ACT-00019', 'ACT-95657', 'processed', 'payment for invoice # INV-253628', '2016-11-13 17:03:12', 'u8284']\n",
      "['TRN-123447', 'A89379B89379', '2016-11-13 17:05:28', '25000.00', 'ACT-00019', 'ACT-95657', 'processed', 'payment for invoice # INV-253628', '2016-11-13 17:05:49', 'u8284']\n",
      "['TRN-123445', 'A89377B89377', '2016-11-13 17:04:14', '25000.00', 'ACT-00019', 'ACT-95657', 'processed', 'payment for invoice # INV-253628', '2016-11-13 17:04:35', 'u8284']\n",
      "['TRN-123424', 'A89356B89356', '2016-08-09 23:58:14', '25000.00', 'ACT-00008', 'ACT-95657', 'processed', 'payment for invoice # INV-253625', '2016-08-09 23:58:35', 'u8284']\n",
      "['TRN-123425', 'A89357B89357', '2016-08-09 23:58:51', '25000.00', 'ACT-00008', 'ACT-95657', 'processed', 'payment for invoice # INV-253625', '2016-08-09 23:59:12', 'u8284']\n",
      "['TRN-123428', 'A89360B89360', '2016-08-10 00:00:42', '25000.00', 'ACT-00008', 'ACT-95657', 'processed', 'payment for invoice # INV-253625', '2016-08-10 00:01:03', 'u8284']\n",
      "['TRN-123427', 'A89359B89359', '2016-08-10 00:00:05', '25000.00', 'ACT-00008', 'ACT-95657', 'processed', 'payment for invoice # INV-253625', '2016-08-10 00:00:26', 'u8284']\n",
      "['TRN-123429', 'A89361B89361', '2016-08-10 00:01:19', '25000.00', 'ACT-00008', 'ACT-95657', 'processed', 'payment for invoice # INV-253625', '2016-08-10 00:01:40', 'u8284']\n",
      "['TRN-123423', 'A89355B89355', '2016-08-09 23:56:14', '20000.00', 'ACT-00008', 'ACT-95657', 'processed', 'payment for invoice # INV-253625', '2016-08-09 23:57:12', 'u8284']\n",
      "['TRN-123426', 'A89358B89358', '2016-08-09 23:59:28', '25000.00', 'ACT-00008', 'ACT-95657', 'processed', 'payment for invoice # INV-253625', '2016-08-09 23:59:49', 'u8284']\n",
      "['TRN-123434', 'A89366B89366', '2016-11-04 02:08:05', '25000.00', 'ACT-00025', 'ACT-77437', 'processed', 'payment for invoice # INV-253626', '2016-11-04 02:08:26', 'u8284']\n",
      "['TRN-123432', 'A89364B89364', '2016-11-04 02:06:51', '25000.00', 'ACT-00025', 'ACT-77437', 'processed', 'payment for invoice # INV-253626', '2016-11-04 02:07:12', 'u8284']\n",
      "['TRN-123435', 'A89367B89367', '2016-11-04 02:08:42', '25000.00', 'ACT-00025', 'ACT-77437', 'processed', 'payment for invoice # INV-253626', '2016-11-04 02:09:03', 'u8284']\n",
      "['TRN-123433', 'A89365B89365', '2016-11-04 02:07:28', '25000.00', 'ACT-00025', 'ACT-77437', 'processed', 'payment for invoice # INV-253626', '2016-11-04 02:07:49', 'u8284']\n",
      "['TRN-123431', 'A89363B89363', '2016-11-04 02:06:14', '25000.00', 'ACT-00025', 'ACT-77437', 'processed', 'payment for invoice # INV-253626', '2016-11-04 02:06:35', 'u8284']\n",
      "['TRN-123438', 'A89370B89370', '2016-11-04 02:10:33', '25000.00', 'ACT-00025', 'ACT-77437', 'processed', 'payment for invoice # INV-253626', '2016-11-04 02:10:54', 'u8284']\n",
      "['TRN-123439', 'A89371B89371', '2016-11-04 02:11:10', '25000.00', 'ACT-00025', 'ACT-77437', 'processed', 'payment for invoice # INV-253626', '2016-11-04 02:11:31', 'u8284']\n",
      "['TRN-123430', 'A89362B89362', '2016-11-04 02:04:14', '25000.00', 'ACT-00025', 'ACT-77437', 'processed', 'payment for invoice # INV-253626', '2016-11-04 02:05:12', 'u8284']\n",
      "['TRN-123437', 'A89369B89369', '2016-11-04 02:09:56', '25000.00', 'ACT-00025', 'ACT-77437', 'processed', 'payment for invoice # INV-253626', '2016-11-04 02:10:17', 'u8284']\n",
      "['TRN-123436', 'A89368B89368', '2016-11-04 02:09:19', '25000.00', 'ACT-00025', 'ACT-77437', 'processed', 'payment for invoice # INV-253626', '2016-11-04 02:09:40', 'u8284']\n",
      "['TRN-123443', 'A89375B89375', '2016-11-13 16:27:28', '25000.00', 'ACT-00020', 'ACT-46570', 'processed', 'payment for invoice # INV-253627', '2016-11-13 16:27:49', 'u8284']\n",
      "['TRN-123440', 'A89372B89372', '2016-11-13 16:24:14', '25000.00', 'ACT-00020', 'ACT-46570', 'processed', 'payment for invoice # INV-253627', '2016-11-13 16:25:12', 'u8284']\n",
      "['TRN-123441', 'A89373B89373', '2016-11-13 16:26:14', '25000.00', 'ACT-00020', 'ACT-46570', 'processed', 'payment for invoice # INV-253627', '2016-11-13 16:26:35', 'u8284']\n",
      "['TRN-123442', 'A89374B89374', '2016-11-13 16:26:51', '25000.00', 'ACT-00020', 'ACT-46570', 'processed', 'payment for invoice # INV-253627', '2016-11-13 16:27:12', 'u8284']\n",
      "['TRN-123452', 'A89384B89384', '2016-11-13 18:20:14', '25000.00', 'ACT-00035', 'ACT-41034', 'processed', 'payment for invoice # INV-253630', '2016-11-13 18:21:12', 'u8284']\n",
      "['TRN-123453', 'A89385B89385', '2016-11-13 18:22:14', '25000.00', 'ACT-00035', 'ACT-41034', 'processed', 'payment for invoice # INV-253630', '2016-11-13 18:22:35', 'u8284']\n",
      "['TRN-123454', 'A89386B89386', '2016-11-13 18:22:51', '25000.00', 'ACT-00035', 'ACT-41034', 'processed', 'payment for invoice # INV-253630', '2016-11-13 18:23:12', 'u8284']\n",
      "['TRN-123455', 'A89387B89387', '2016-11-13 18:23:28', '25000.00', 'ACT-00035', 'ACT-41034', 'processed', 'payment for invoice # INV-253630', '2016-11-13 18:23:49', 'u8284']\n",
      "['TRN-123420', 'A89352B89352', '2016-05-19 22:59:14', '15000.00', 'ACT-00015', 'ACT-41034', 'processed', 'payment for invoice # INV-253624', '2016-05-19 22:59:35', 'u8284']\n",
      "['TRN-123422', 'A89354B89354', '2016-05-19 23:00:28', '15000.00', 'ACT-00015', 'ACT-41034', 'processed', 'payment for invoice # INV-253624', '2016-05-19 23:00:49', 'u8284']\n",
      "['TRN-123421', 'A89353B89353', '2016-05-19 22:59:51', '15000.00', 'ACT-00015', 'ACT-41034', 'processed', 'payment for invoice # INV-253624', '2016-05-19 23:00:12', 'u8284']\n",
      "['TRN-123419', 'A89351B89351', '2016-05-19 22:57:14', '5000.00', 'ACT-00015', 'ACT-41034', 'processed', 'payment for invoice # INV-253624', '2016-05-19 22:58:12', 'u8284']\n",
      "['TRN-123450', 'A89382B89382', '2016-11-13 17:38:51', '25000.00', 'ACT-00011', 'ACT-77437', 'processed', 'payment for invoice # INV-253629', '2016-11-13 17:39:12', 'u8284']\n",
      "['TRN-123449', 'A89381B89381', '2016-11-13 17:38:14', '25000.00', 'ACT-00011', 'ACT-77437', 'processed', 'payment for invoice # INV-253629', '2016-11-13 17:38:35', 'u8284']\n",
      "['TRN-123448', 'A89380B89380', '2016-11-13 17:36:14', '25000.00', 'ACT-00011', 'ACT-77437', 'processed', 'payment for invoice # INV-253629', '2016-11-13 17:37:12', 'u8284']\n",
      "['TRN-123451', 'A89383B89383', '2016-11-13 17:39:28', '25000.00', 'ACT-00011', 'ACT-77437', 'processed', 'payment for invoice # INV-253629', '2016-11-13 17:39:49', 'u8284']\n"
     ]
    }
   ],
   "source": [
    "#Counting split payments\n",
    "transactions = []\n",
    "trans_header = []\n",
    "\n",
    "with open('data/transactions.csv', \"r\") as input_file:\n",
    "    reader = csv.reader(input_file, delimiter=\"|\")\n",
    "    trans_header = next(reader) #skip header\n",
    "    transactions = [row for row in reader]\n",
    "\n",
    "payments = {}\n",
    "split_counts = 0\n",
    "split_payments = []\n",
    "\n",
    "for idx, row in enumerate(transactions):\n",
    "    invoice_note = row[7]\n",
    "    if invoice_note not in payments:\n",
    "        payments[invoice_note] = [row]\n",
    "    else:\n",
    "        payments[invoice_note].append(row)\n",
    "\n",
    "for key,val in payments.items():\n",
    "    if len(val) > 1:\n",
    "        split_counts += len(val)\n",
    "        split_payments.extend(val)\n",
    "\n",
    "print(split_counts)\n",
    "#print(split_payments)\n",
    "for t in split_payments:\n",
    "    print(t)\n",
    "\n",
    "with open('analysis/split_payments.csv','w') as out:\n",
    "    out.write(\",\".join(trans_header)+\"\\n\")\n",
    "    for t in split_payments:\n",
    "        out.write(\",\".join(t)+\"\\n\")"
   ]
  },
  {
   "cell_type": "code",
   "execution_count": null,
   "metadata": {
    "collapsed": true
   },
   "outputs": [],
   "source": []
  }
 ],
 "metadata": {
  "kernelspec": {
   "display_name": "Python 3",
   "language": "python",
   "name": "python3"
  },
  "language_info": {
   "codemirror_mode": {
    "name": "ipython",
    "version": 3
   },
   "file_extension": ".py",
   "mimetype": "text/x-python",
   "name": "python",
   "nbconvert_exporter": "python",
   "pygments_lexer": "ipython3",
   "version": "3.6.1"
  }
 },
 "nbformat": 4,
 "nbformat_minor": 2
}
