{
 "cells": [
  {
   "cell_type": "code",
   "execution_count": 89,
   "metadata": {
    "collapsed": false,
    "deletable": true,
    "editable": true
   },
   "outputs": [
    {
     "name": "stdout",
     "output_type": "stream",
     "text": [
      "2017-04-07 13:49:23,429 INFO sqlalchemy.engine.base.Engine SELECT CAST('test plain returns' AS VARCHAR(60)) AS anon_1\n",
      "2017-04-07 13:49:23,429 INFO sqlalchemy.engine.base.Engine ()\n",
      "2017-04-07 13:49:23,429 INFO sqlalchemy.engine.base.Engine SELECT CAST('test unicode returns' AS VARCHAR(60)) AS anon_1\n",
      "2017-04-07 13:49:23,443 INFO sqlalchemy.engine.base.Engine ()\n",
      "2017-04-07 13:49:23,444 INFO sqlalchemy.engine.base.Engine PRAGMA table_info(\"access_log\")\n",
      "2017-04-07 13:49:23,445 INFO sqlalchemy.engine.base.Engine ()\n",
      "2017-04-07 13:49:23,447 INFO sqlalchemy.engine.base.Engine PRAGMA table_info(\"account_company\")\n",
      "2017-04-07 13:49:23,448 INFO sqlalchemy.engine.base.Engine ()\n",
      "2017-04-07 13:49:23,449 INFO sqlalchemy.engine.base.Engine PRAGMA table_info(\"account_external\")\n",
      "2017-04-07 13:49:23,450 INFO sqlalchemy.engine.base.Engine ()\n",
      "2017-04-07 13:49:23,451 INFO sqlalchemy.engine.base.Engine PRAGMA table_info(\"authorisation_level\")\n",
      "2017-04-07 13:49:23,451 INFO sqlalchemy.engine.base.Engine ()\n",
      "2017-04-07 13:49:23,452 INFO sqlalchemy.engine.base.Engine PRAGMA table_info(\"invoice_purchase_order\")\n",
      "2017-04-07 13:49:23,453 INFO sqlalchemy.engine.base.Engine ()\n",
      "2017-04-07 13:49:23,454 INFO sqlalchemy.engine.base.Engine PRAGMA table_info(\"invoice_transactions\")\n",
      "2017-04-07 13:49:23,455 INFO sqlalchemy.engine.base.Engine ()\n",
      "2017-04-07 13:49:23,456 INFO sqlalchemy.engine.base.Engine \n",
      "CREATE TABLE authorisation_level (\n",
      "\tgroup_id TEXT NOT NULL, \n",
      "\tgroup_desc TEXT, \n",
      "\tapproval_max_amount TEXT, \n",
      "\tPRIMARY KEY (group_id)\n",
      ")\n",
      "\n",
      "\n",
      "2017-04-07 13:49:23,457 INFO sqlalchemy.engine.base.Engine ()\n",
      "2017-04-07 13:49:23,465 INFO sqlalchemy.engine.base.Engine COMMIT\n"
     ]
    }
   ],
   "source": [
    "#importing data\n",
    "import csv\n",
    "import pandas as pd\n",
    "from sklearn import linear_model\n",
    "from sklearn.preprocessing import PolynomialFeatures\n",
    "import numpy as np\n",
    "import DB"
   ]
  },
  {
   "cell_type": "code",
   "execution_count": 47,
   "metadata": {
    "collapsed": false
   },
   "outputs": [],
   "source": [
    "access_log = \"access_log.csv\"\n",
    "\n",
    "files = ['employee_department.csv',\n",
    "'access_log.csv'  ,           'invoice_purchase_order.csv',\n",
    "'account_company.csv',        'invoice_transactions.csv',\n",
    "'account_external.csv',       'public_holidays_zrh.csv',\n",
    "'authorization_level.csv',    'system_users.csv',\n",
    "'bank_transfer_file.csv',     'transactions.csv',\n",
    "'calendar.csv',               'user_groups.csv',\n",
    "'department.csv',             'vendor.csv',\n",
    "'employee.csv',               'vendor_address.csv']\n",
    "\n",
    "with open()\n",
    "\n",
    "employee_department_data = pd.read_csv('employee_department.csv', sep='|')\n",
    "access_log_data = pd.read_csv('access_log.csv', sep='|')\n",
    "invoice_purchase_order_data = pd.read_csv('invoice_purchase_order.csv', sep='|')\n",
    "account_company_data = pd.read_csv('account_company.csv', sep='|')\n",
    "invoice_transactions_data = pd.read_csv('invoice_transactions.csv', sep='|')\n",
    "account_external_data = pd.read_csv('account_external.csv', sep='|')\n",
    "public_holidays_zrh_data = pd.read_csv('public_holidays_zrh.csv', sep='|')\n",
    "authorization_level_data = pd.read_csv('authorization_level.csv', sep='|')\n",
    "system_users_data = pd.read_csv('system_users.csv', sep='|')\n",
    "transactions_data = pd.read_csv('transactions.csv', sep='|')\n",
    "calendar_data = pd.read_csv('calendar.csv', sep='|')\n",
    "user_groups_data = pd.read_csv('user_groups.csv', sep='|')\n",
    "department_data = pd.read_csv('department.csv', sep='|')   \n",
    "vendor_data = pd.read_csv('vendor.csv', sep='|')\n",
    "employee_data = pd.read_csv('employee.csv', sep='|')\n",
    "vendor_address_data = pd.read_csv('vendor_address.csv', sep='|')\n",
    "#bank_transfer_file_data = pd.read_csv('bank_transfer_file.csv') \n",
    "\n"
   ]
  },
  {
   "cell_type": "code",
   "execution_count": 73,
   "metadata": {
    "collapsed": false
   },
   "outputs": [
    {
     "name": "stdout",
     "output_type": "stream",
     "text": [
      "0\n",
      "10\n",
      "{'VDA-00773', 'VDA-00449', 'VDA-00323', 'VDA-00772', 'VDA-00398', 'VDA-00206', 'VDA-00109', 'VDA-00547', 'VDA-00597', 'VDA-00346'}\n"
     ]
    }
   ],
   "source": [
    "#Get # vendors with incomplete details.\n",
    "\n",
    "vendors = []\n",
    "vendor_addr = []\n",
    "addr_header = None\n",
    "\n",
    "with open('data/vendor.csv', \"r\") as input_file:\n",
    "    reader = csv.reader(input_file, delimiter=\"|\")\n",
    "    next(reader) #skip header\n",
    "    vendors = [row for row in reader]\n",
    "\n",
    "    \n",
    "with open('data/vendor_address.csv', \"r\") as input_file:\n",
    "    reader = csv.reader(input_file, delimiter=\"|\")\n",
    "    addr_header = next(reader) #skip header\n",
    "    vendor_addr = [row for row in reader]\n",
    "\n",
    "counter = 0\n",
    "vendor_ids = set()\n",
    "inc_vendors = []\n",
    "\n",
    "for idx,v in enumerate(vendors):\n",
    "    for entry in v:\n",
    "        #print(entry)\n",
    "        if not entry:\n",
    "            counter += 1\n",
    "            vendor_ids.add(v[0])\n",
    "            inc_vendors.append(v)\n",
    "            break\n",
    "            \n",
    "print(counter)\n",
    "\n",
    "for idx,v in enumerate(vendor_addr):\n",
    "    for entry in v:\n",
    "        if not entry and v[0] not in vendor_ids:\n",
    "            counter += 1\n",
    "            v_2 = []\n",
    "            for e in v:\n",
    "                if not e:\n",
    "                    v_2.append(\"EMPTY\")\n",
    "                else:\n",
    "                    v_2.append(e)\n",
    "                    \n",
    "            inc_vendors.append(v_2)\n",
    "            vendor_ids.add(v[0])\n",
    "            break\n",
    "            \n",
    "print(counter)\n",
    "print(vendor_ids)\n",
    "\n",
    "with open('analysis/incomplete_vendors.csv','w') as out_file:\n",
    "    out_file.write(\"\\n\"+\",\".join(addr_header))\n",
    "    for v in inc_vendors:\n",
    "        out_file.write(\"\\n\"+\",\".join(v))"
   ]
  },
  {
   "cell_type": "code",
   "execution_count": 86,
   "metadata": {
    "collapsed": false
   },
   "outputs": [],
   "source": [
    "#Counting split payments\n",
    "transactions = []\n",
    "trans_header = []\n",
    "\n",
    "with open('data/transactions.csv', \"r\") as input_file:\n",
    "    reader = csv.reader(input_file, delimiter=\"|\")\n",
    "    trans_header = next(reader) #skip header\n",
    "    transactions = [row for row in reader]\n",
    "\n",
    "payments = {}\n",
    "split_counts = 0\n",
    "split_payments = []\n",
    "\n",
    "for idx, row in enumerate(transactions):\n",
    "    invoice_note = row[7]\n",
    "    if invoice_note not in payments:\n",
    "        payments[invoice_note] = [row]\n",
    "    else:\n",
    "        payments[invoice_note].append(row)\n",
    "\n",
    "for key,val in payments.items():\n",
    "    if len(val) > 1:\n",
    "        split_counts += len(val)\n",
    "        split_payments.extend(val)\n",
    "\n",
    "with open('analysis/split_payments.csv','w') as out:\n",
    "    out.write(\",\".join(trans_header)+\"\\n\")\n",
    "    for t in split_payments:\n",
    "        out.write(\",\".join(t)+\"\\n\")"
   ]
  },
  {
   "cell_type": "code",
   "execution_count": 143,
   "metadata": {
    "collapsed": false
   },
   "outputs": [
    {
     "name": "stdout",
     "output_type": "stream",
     "text": [
      "2017-04-07 15:51:41,778 INFO sqlalchemy.engine.base.Engine SELECT invoice_purchase_order.invoice_id AS invoice_purchase_order_invoice_id, invoice_purchase_order.po_id AS invoice_purchase_order_po_id, invoice_purchase_order.vendor_id AS invoice_purchase_order_vendor_id, invoice_purchase_order.invoice_dt AS invoice_purchase_order_invoice_dt, invoice_purchase_order.invoice_image_path AS invoice_purchase_order_invoice_image_path, invoice_purchase_order.payment_due_by_dt AS invoice_purchase_order_payment_due_by_dt, invoice_purchase_order.received_dt AS invoice_purchase_order_received_dt, invoice_purchase_order.received_by_user_id AS invoice_purchase_order_received_by_user_id, invoice_purchase_order.total AS invoice_purchase_order_total \n",
      "FROM invoice_purchase_order\n",
      "2017-04-07 15:51:41,779 INFO sqlalchemy.engine.base.Engine ()\n",
      "0\n",
      "['PUO-001546992', 'PUO-001546993', 'PUO-001546994', 'PUO-001546995', 'PUO-001546996', 'PUO-001546997', 'PUO-001546998', 'PUO-001546999', 'PUO-001547000', 'PUO-001547001', 'PUO-001547002', 'PUO-001547003', 'PUO-001547004', 'PUO-001547005', 'PUO-001547006', 'PUO-001547007', 'PUO-001547008', 'PUO-001547009', 'PUO-001547010', 'PUO-001547011', 'PUO-001547012', 'PUO-001547013', 'PUO-001547014', 'PUO-001547015', 'PUO-001547016', 'PUO-001547017', 'PUO-001547018', 'PUO-001547019', 'PUO-001547020', 'PUO-001547021', 'PUO-001547022', 'PUO-001547023', 'PUO-001547024', 'PUO-001547025', 'PUO-001547026', 'PUO-001547027', 'PUO-001547028', 'PUO-001547029', 'PUO-001887892', 'PUO-001887893', 'PUO-001887894', 'PUO-001887895', 'PUO-001887896', 'PUO-001887897', 'PUO-001887898', 'PUO-001887899', 'PUO-001887900', 'PUO-001887901', 'PUO-001887902', 'PUO-001887903', 'PUO-001887904', 'PUO-001887905', 'PUO-001887906', 'PUO-001887907', 'PUO-001887908', 'PUO-001887909', 'PUO-001887910', 'PUO-001887911', 'PUO-001887912', 'PUO-001887913', 'PUO-001887914', 'PUO-001887915', 'PUO-001887916', 'PUO-001887917', 'PUO-001887918', 'PUO-001887919', 'PUO-001887920', 'PUO-001887921', 'PUO-001887922', 'PUO-001887923', 'PUO-093811489', 'PUO-093811490', 'PUO-099844485', 'PUO-099844486', 'PUO-136179892', 'PUO-136179893', 'PUO-205752795', 'PUO-205752796', 'PUO-709771', 'PUO-709772', 'PUO-709773', 'PUO-709774', 'PUO-709775', 'PUO-709776', 'PUO-709777', 'PUO-709778', 'PUO-709779', 'PUO-709780', 'PUO-709781', 'PUO-709782', 'PUO-709783', 'PUO-709784', 'PUO-709785', 'PUO-709786', 'PUO-709787', 'PUO-709788', 'PUO-709789', 'PUO-709790', 'PUO-709791', 'PUO-709792', 'PUO-709793', 'PUO-709794', 'PUO-709795']\n",
      "103\n"
     ]
    }
   ],
   "source": [
    "#Consecutive input ids\n",
    "\n",
    "def generate_next_ID(current_ID):\n",
    "    number = int(current_ID.split(\"-\")[1])\n",
    "    next_number = str(number+1).zfill(9) #Padding as ID length is 9.\n",
    "    return \"PUO-\"+next_number\n",
    "\n",
    "\n",
    "def generate_next_tampered_ID(current_ID):\n",
    "    number = int(current_ID.split(\"-\")[1])\n",
    "    next_number = str(number+1) #No padding even though ID length is 9.\n",
    "    return \"PUO-\"+next_number\n",
    "\n",
    "def generate_previous_ID(current_ID):\n",
    "    number = int(current_ID.split(\"-\")[1])\n",
    "    next_number = str(number-1).zfill(9)\n",
    "    return \"PUO-\"+next_number\n",
    "\n",
    "\n",
    "def generate_previous_tampered_ID(current_ID):\n",
    "    number = int(current_ID.split(\"-\")[1])\n",
    "    next_number = str(number-1)\n",
    "    return \"PUO-\"+next_number\n",
    "\n",
    "S = DB.sess\n",
    "query = S.query(DB.InvoicePurchaseOrder)\n",
    "purchase_IDs = {}\n",
    "\n",
    "for row in query:\n",
    "    if row.po_id in purchase_IDs:\n",
    "        print(\"RAAAGE\")\n",
    "    purchase_IDs[row.po_id] = False\n",
    "\n",
    "consecutives = 0\n",
    "consec = set()\n",
    "\n",
    "for po_ID in purchase_IDs:\n",
    "    next_ID = generate_next_ID(po_ID)\n",
    "    previous_ID = generate_previous_ID(po_ID)\n",
    "    next_tampered_ID = generate_next_tampered_ID(po_ID)\n",
    "    previous_tampered_ID = generate_previous_tampered_ID(po_ID)\n",
    "    \n",
    "    if next_ID in purchase_IDs:# and previous_ID in purchase_IDs:\n",
    "#        if not purchase_IDs[po_ID]:\n",
    "#            purchase_IDs[po_ID] = True\n",
    "#            consecutives += 1\n",
    "#            consec.add(po_ID)\n",
    "            \n",
    "#        if not purchase_IDs[next_ID]:\n",
    "#            purchase_IDs[next_ID] = True\n",
    "#            consecutives += 1\n",
    "#            consec.add(next_ID)\n",
    "        \n",
    "        consec.add(next_ID)\n",
    "        consec.add(po_ID)\n",
    "        #consec.add(previous_ID)\n",
    "    \n",
    "    if next_tampered_ID in purchase_IDs:# and previous_tampered_ID in purchase_IDs:\n",
    "        consec.add(next_tampered_ID)\n",
    "        consec.add(po_ID)\n",
    "        #consec.add(previous_tampered_ID)\n",
    "        #consec.add(previous_ID)\n",
    "#    if previous_ID in purchase_IDs:\n",
    "#        if not purchase_IDs[po_ID]:\n",
    "#            purchase_IDs[po_ID] = True\n",
    "#            consecutives += 1\n",
    "#        consec.add(po_ID)\n",
    "            \n",
    "#        if not purchase_IDs[previous_ID]:\n",
    "#            purchase_IDs[previous_ID] = True\n",
    "#            consecutives += 1\n",
    "#        consec.add(previous_ID)\n",
    "            \n",
    "#print(len(purchase_IDs))\n",
    "print(consecutives)\n",
    "print(sorted(consec))\n",
    "print(len(consec))\n"
   ]
  },
  {
   "cell_type": "code",
   "execution_count": 146,
   "metadata": {
    "collapsed": false
   },
   "outputs": [
    {
     "name": "stdout",
     "output_type": "stream",
     "text": [
      "2017-04-07 16:15:37,936 INFO sqlalchemy.engine.base.Engine SELECT invoice_purchase_order.invoice_id AS invoice_purchase_order_invoice_id, invoice_purchase_order.po_id AS invoice_purchase_order_po_id, invoice_purchase_order.vendor_id AS invoice_purchase_order_vendor_id, invoice_purchase_order.invoice_dt AS invoice_purchase_order_invoice_dt, invoice_purchase_order.invoice_image_path AS invoice_purchase_order_invoice_image_path, invoice_purchase_order.payment_due_by_dt AS invoice_purchase_order_payment_due_by_dt, invoice_purchase_order.received_dt AS invoice_purchase_order_received_dt, invoice_purchase_order.received_by_user_id AS invoice_purchase_order_received_by_user_id, invoice_purchase_order.total AS invoice_purchase_order_total \n",
      "FROM invoice_purchase_order\n",
      "2017-04-07 16:15:37,937 INFO sqlalchemy.engine.base.Engine ()\n",
      "[709771, 709772, 709773, 709774, 709775, 709776, 709777, 709778, 709779, 709780, 709781, 709782, 709783, 709784, 709785, 709786, 709787, 709788, 709789, 709790, 709791, 709792, 709793, 709794, 709795, 1546992, 1546993, 1546994, 1546995, 1546996, 1546997, 1546998, 1546999, 1547000, 1547001, 1547002, 1547003, 1547004, 1547005, 1547006, 1547007, 1547008, 1547009, 1547010, 1547011, 1547012, 1547013, 1547014, 1547015, 1547016, 1547017, 1547018, 1547019, 1547020, 1547021, 1547022, 1547023, 1547024, 1547025, 1547026, 1547027, 1547028, 1547029, 1887892, 1887893, 1887894, 1887895, 1887896, 1887897, 1887898, 1887899, 1887900, 1887901, 1887902, 1887903, 1887904, 1887905, 1887906, 1887907, 1887908, 1887909, 1887910, 1887911, 1887912, 1887913, 1887914, 1887915, 1887916, 1887917, 1887918, 1887919, 1887920, 1887921, 1887922, 1887923, 93811489, 93811490, 99844485, 99844486, 136179892, 136179893, 205752795, 205752796]\n",
      "103\n"
     ]
    }
   ],
   "source": [
    "def generate_next_ID(current_ID):\n",
    "    return current_ID + 1\n",
    "\n",
    "\n",
    "S = DB.sess\n",
    "query = S.query(DB.InvoicePurchaseOrder)\n",
    "purchase_IDs = {}\n",
    "\n",
    "for row in query:\n",
    "    raw_ID = int(row.po_id.split(\"-\")[1])\n",
    "    purchase_IDs[raw_ID] = False\n",
    "\n",
    "consecutives = 0\n",
    "consec = set()\n",
    "\n",
    "for po_ID in purchase_IDs:\n",
    "    next_ID = po_ID + 1\n",
    "    #revious_ID = po_ID -1\n",
    "    \n",
    "    if next_ID in purchase_IDs:#and previous_ID in purchase_IDs:\n",
    "        consec.add(po_ID)\n",
    "        consec.add(next_ID)\n",
    "        #onsec.add(previous_ID)\n",
    "    \n",
    "print(sorted(consec))\n",
    "print(len(consec))"
   ]
  },
  {
   "cell_type": "code",
   "execution_count": 130,
   "metadata": {
    "collapsed": false
   },
   "outputs": [
    {
     "name": "stdout",
     "output_type": "stream",
     "text": [
      "True\n",
      "True\n"
     ]
    }
   ],
   "source": [
    "print(\"PUO-001887914\" in consec)\n",
    "print(\"PUO-001546994\" in consec)"
   ]
  },
  {
   "cell_type": "code",
   "execution_count": null,
   "metadata": {
    "collapsed": true
   },
   "outputs": [],
   "source": [
    "#Amount stolen"
   ]
  }
 ],
 "metadata": {
  "kernelspec": {
   "display_name": "Python 3",
   "language": "python",
   "name": "python3"
  },
  "language_info": {
   "codemirror_mode": {
    "name": "ipython",
    "version": 3
   },
   "file_extension": ".py",
   "mimetype": "text/x-python",
   "name": "python",
   "nbconvert_exporter": "python",
   "pygments_lexer": "ipython3",
   "version": "3.6.1"
  }
 },
 "nbformat": 4,
 "nbformat_minor": 2
}
